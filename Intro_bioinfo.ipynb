{
  "nbformat": 4,
  "nbformat_minor": 0,
  "metadata": {
    "colab": {
      "provenance": [],
      "toc_visible": true,
      "authorship_tag": "ABX9TyNTnGPKPb+sXqhlJmUODUk4",
      "include_colab_link": true
    },
    "kernelspec": {
      "name": "python3",
      "display_name": "Python 3"
    },
    "language_info": {
      "name": "python"
    }
  },
  "cells": [
    {
      "cell_type": "markdown",
      "metadata": {
        "id": "view-in-github",
        "colab_type": "text"
      },
      "source": [
        "<a href=\"https://colab.research.google.com/github/Danilosauro/Introduction_to_Bioinformatics/blob/main/Intro_bioinfo.ipynb\" target=\"_parent\"><img src=\"https://colab.research.google.com/assets/colab-badge.svg\" alt=\"Open In Colab\"/></a>"
      ]
    },
    {
      "cell_type": "markdown",
      "source": [
        "# **Introdução à bioinformática com Python**   🧬 📊 💻\n"
      ],
      "metadata": {
        "id": "tq1yJKgar0bE"
      }
    },
    {
      "cell_type": "markdown",
      "source": [
        "### **primeiro programa em python**"
      ],
      "metadata": {
        "id": "U9BxIIBQuBsn"
      }
    },
    {
      "cell_type": "code",
      "execution_count": null,
      "metadata": {
        "colab": {
          "base_uri": "https://localhost:8080/"
        },
        "id": "G6VUCX9IryGJ",
        "outputId": "81990958-523e-4318-94d4-b572c380a333"
      },
      "outputs": [
        {
          "output_type": "stream",
          "name": "stdout",
          "text": [
            "Hello World\n"
          ]
        }
      ],
      "source": [
        "print('Hello World')"
      ]
    },
    {
      "cell_type": "code",
      "source": [
        "# isto é um comentário em python, comentários são ignorados pelo interpretador."
      ],
      "metadata": {
        "id": "bzMEhDrq6TsB"
      },
      "execution_count": null,
      "outputs": []
    },
    {
      "cell_type": "code",
      "source": [
        "print(\"meu nome é Danilo.\") #strings entre aspas "
      ],
      "metadata": {
        "colab": {
          "base_uri": "https://localhost:8080/"
        },
        "id": "bFU6fdar7t8Z",
        "outputId": "68e7c78f-5752-4508-baad-b3b4779e0b2b"
      },
      "execution_count": null,
      "outputs": [
        {
          "output_type": "stream",
          "name": "stdout",
          "text": [
            "meu nome é Danilo:\n"
          ]
        }
      ]
    },
    {
      "cell_type": "code",
      "source": [
        "print(12) #números não necessitam de aspas"
      ],
      "metadata": {
        "colab": {
          "base_uri": "https://localhost:8080/"
        },
        "id": "2LNsftUp73FQ",
        "outputId": "777aa88f-7374-4bf1-a029-cd93893a834d"
      },
      "execution_count": null,
      "outputs": [
        {
          "output_type": "stream",
          "name": "stdout",
          "text": [
            "12\n"
          ]
        }
      ]
    },
    {
      "cell_type": "markdown",
      "source": [
        "### **Apenas um exemplo de uso da lógica de programação em Python**  🖖"
      ],
      "metadata": {
        "id": "xIKjMRKL_t27"
      }
    },
    {
      "cell_type": "code",
      "source": [
        "idade = 27 \n",
        "classe_social = 'média' \n",
        "\n",
        "if idade < 30 and classe_social != \"alta\" or classe_social != \"baixa\":\n",
        "  print('é um jovem de classe média')"
      ],
      "metadata": {
        "colab": {
          "base_uri": "https://localhost:8080/"
        },
        "id": "BNSeD4pk8EjB",
        "outputId": "9cedc084-5aa9-4319-a388-af6622630799"
      },
      "execution_count": null,
      "outputs": [
        {
          "output_type": "stream",
          "name": "stdout",
          "text": [
            "é um jovem de classe média\n"
          ]
        }
      ]
    },
    {
      "cell_type": "markdown",
      "source": [
        "**Exercícios práticos - Sintaxe básica** \n"
      ],
      "metadata": {
        "id": "rLSq__zSgX36"
      }
    },
    {
      "cell_type": "code",
      "source": [
        "linguagem = 'Python' \n",
        "print(linguagem)"
      ],
      "metadata": {
        "colab": {
          "base_uri": "https://localhost:8080/"
        },
        "id": "reB2vE4Hgpj9",
        "outputId": "957dcdfa-f270-423a-ecdf-4a61d4f9bb98"
      },
      "execution_count": null,
      "outputs": [
        {
          "output_type": "stream",
          "name": "stdout",
          "text": [
            "Python\n"
          ]
        }
      ]
    },
    {
      "cell_type": "code",
      "source": [
        "a = 1500 \n",
        "b = 335 \n",
        "\n",
        "print(a+b) \n",
        "print(a*b) \n",
        "print(a-b)"
      ],
      "metadata": {
        "colab": {
          "base_uri": "https://localhost:8080/"
        },
        "id": "G5Y2u6_AjhYg",
        "outputId": "35141982-cf02-46a2-9f90-6e9b676c18b5"
      },
      "execution_count": null,
      "outputs": [
        {
          "output_type": "stream",
          "name": "stdout",
          "text": [
            "1835\n",
            "502500\n",
            "1165\n"
          ]
        }
      ]
    },
    {
      "cell_type": "code",
      "source": [],
      "metadata": {
        "id": "HihOFaPHkOrR"
      },
      "execution_count": null,
      "outputs": []
    },
    {
      "cell_type": "code",
      "source": [
        "a = \"Marrie\" \n",
        "b = \" Currie\" \n",
        "c = \"!!! \" \n",
        "\n",
        "print(a+b+c)"
      ],
      "metadata": {
        "colab": {
          "base_uri": "https://localhost:8080/"
        },
        "id": "_MyR57U-jsaJ",
        "outputId": "6f3f5ad4-a153-49d5-cffc-6a0afb771908"
      },
      "execution_count": null,
      "outputs": [
        {
          "output_type": "stream",
          "name": "stdout",
          "text": [
            "Marrie Currie!!! \n"
          ]
        }
      ]
    },
    {
      "cell_type": "code",
      "source": [
        "print(2+3 == 5)"
      ],
      "metadata": {
        "colab": {
          "base_uri": "https://localhost:8080/"
        },
        "id": "R-_v0blSj7m_",
        "outputId": "2ef40b24-dc11-41fc-a178-e9bb783de185"
      },
      "execution_count": null,
      "outputs": [
        {
          "output_type": "stream",
          "name": "stdout",
          "text": [
            "True\n"
          ]
        }
      ]
    },
    {
      "cell_type": "code",
      "source": [
        "print(5+9 == 13)"
      ],
      "metadata": {
        "colab": {
          "base_uri": "https://localhost:8080/"
        },
        "id": "MYIHK-iLkBG7",
        "outputId": "ea0a9458-9087-4b4f-ca22-766bbc802282"
      },
      "execution_count": null,
      "outputs": [
        {
          "output_type": "stream",
          "name": "stdout",
          "text": [
            "False\n"
          ]
        }
      ]
    },
    {
      "cell_type": "code",
      "source": [
        "pi = 3.1415 \n",
        "print(pi)"
      ],
      "metadata": {
        "colab": {
          "base_uri": "https://localhost:8080/"
        },
        "id": "ud5QtS2wkILf",
        "outputId": "7d1d94fd-f7de-4e5b-d7e1-efda7c809e69"
      },
      "execution_count": null,
      "outputs": [
        {
          "output_type": "stream",
          "name": "stdout",
          "text": [
            "3.1415\n"
          ]
        }
      ]
    },
    {
      "cell_type": "code",
      "source": [
        "pi = 3.1415 \n",
        "  print(pi)  \n",
        "\n",
        "  # Apenas para entender a importância da indentação nesta linguagem"
      ],
      "metadata": {
        "id": "cPv2GlAglI6K",
        "outputId": "e2b01018-f241-4be3-9b37-5d75eb20e17e",
        "colab": {
          "base_uri": "https://localhost:8080/",
          "height": 137
        }
      },
      "execution_count": null,
      "outputs": [
        {
          "output_type": "error",
          "ename": "IndentationError",
          "evalue": "ignored",
          "traceback": [
            "\u001b[0;36m  File \u001b[0;32m\"<ipython-input-12-2b2241ecb69e>\"\u001b[0;36m, line \u001b[0;32m2\u001b[0m\n\u001b[0;31m    print(pi)\u001b[0m\n\u001b[0m    ^\u001b[0m\n\u001b[0;31mIndentationError\u001b[0m\u001b[0;31m:\u001b[0m unexpected indent\n"
          ]
        }
      ]
    },
    {
      "cell_type": "markdown",
      "source": [
        "## **Resolução do Exercício : Tipos de variáveis** \n",
        "**Strings**"
      ],
      "metadata": {
        "id": "ND6He0up2LVc"
      }
    },
    {
      "cell_type": "code",
      "source": [
        "sequencia = 'VRSSSRTPSDKPVAHVVANPQAEGQLQWLNRRANALLANGVELRDNQLVVPSEGLYLIYSQVLFKG\\\n",
        "QGCPSTHVLLTHTISRIAVSYQTKVNLLSAIKSPCQRETPEGAEAKPWYEPIYLGGVFQLEKGDRLSAEINRPDYLLFAESGQVYFGIIAL'  \n",
        "\n",
        "print(len(sequencia)) #retornando o tamanho de uma sequência \n",
        "print(sequencia.count('LL')) #retornando a contagem da ocorrência de leucinas \n",
        "print(sequencia.find('GG')) #encontrando a posição das glicinas  \n",
        "print(sequencia.find('RR')) #encontrando a posição das argininas \n",
        "seq_2= sequencia[0:100] \n",
        "print(seq_2) \n",
        "print(len(seq_2)) \n",
        "seq_3 = sequencia.replace(\"SSSR\",\"AAAA\") \n",
        "print(seq_3)\n",
        "print(seq_3.split(\"AAAA\"))"
      ],
      "metadata": {
        "colab": {
          "base_uri": "https://localhost:8080/"
        },
        "id": "ezaO9XJL2S8t",
        "outputId": "c33c1a12-dc42-406f-b772-ee688c61ae7f"
      },
      "execution_count": null,
      "outputs": [
        {
          "output_type": "stream",
          "name": "stdout",
          "text": [
            "157\n",
            "4\n",
            "120\n",
            "30\n",
            "VRSSSRTPSDKPVAHVVANPQAEGQLQWLNRRANALLANGVELRDNQLVVPSEGLYLIYSQVLFKGQGCPSTHVLLTHTISRIAVSYQTKVNLLSAIKSP\n",
            "100\n",
            "VRAAAATPSDKPVAHVVANPQAEGQLQWLNRRANALLANGVELRDNQLVVPSEGLYLIYSQVLFKGQGCPSTHVLLTHTISRIAVSYQTKVNLLSAIKSPCQRETPEGAEAKPWYEPIYLGGVFQLEKGDRLSAEINRPDYLLFAESGQVYFGIIAL\n",
            "['VR', 'TPSDKPVAHVVANPQAEGQLQWLNRRANALLANGVELRDNQLVVPSEGLYLIYSQVLFKGQGCPSTHVLLTHTISRIAVSYQTKVNLLSAIKSPCQRETPEGAEAKPWYEPIYLGGVFQLEKGDRLSAEINRPDYLLFAESGQVYFGIIAL']\n"
          ]
        }
      ]
    },
    {
      "cell_type": "code",
      "source": [
        "texto = \"As proteínas são cadeias polipeptídicas formadas pela ligação peptídica entre resíduos de aminoácidos.\\\n",
        "Existem 20 tipos de aminoácidos comumente encontrados nos seres vivos. A esses aminoácidos, foram\\\n",
        "atribuídas abreviações de 3 letras e símbolos de 1 letra. As abreviações de 3 letras são bastante evidentes\\\n",
        "consistindo nas três primeiras letras do se nome.\"  \n",
        "\n",
        "print(texto.upper()) # todo o texto em maiúsculo\n",
        "print(texto.lower()) # todo o texto em minúsculo\n",
        "print(texto.title()) # apenas as primeiras letras de cada palavra em maiúsculo\n",
        "print(texto.lower()) # todo o texto em minúsculo"
      ],
      "metadata": {
        "colab": {
          "base_uri": "https://localhost:8080/"
        },
        "id": "-FZoJ84ZKRoH",
        "outputId": "53611f17-e5c9-433d-d2b6-7511a94f0f13"
      },
      "execution_count": null,
      "outputs": [
        {
          "output_type": "stream",
          "name": "stdout",
          "text": [
            "AS PROTEÍNAS SÃO CADEIAS POLIPEPTÍDICAS FORMADAS PELA LIGAÇÃO PEPTÍDICA ENTRE RESÍDUOS DE AMINOÁCIDOS.EXISTEM 20 TIPOS DE AMINOÁCIDOS COMUMENTE ENCONTRADOS NOS SERES VIVOS. A ESSES AMINOÁCIDOS, FORAMATRIBUÍDAS ABREVIAÇÕES DE 3 LETRAS E SÍMBOLOS DE 1 LETRA. AS ABREVIAÇÕES DE 3 LETRAS SÃO BASTANTE EVIDENTESCONSISTINDO NAS TRÊS PRIMEIRAS LETRAS DO SE NOME.\n",
            "as proteínas são cadeias polipeptídicas formadas pela ligação peptídica entre resíduos de aminoácidos.existem 20 tipos de aminoácidos comumente encontrados nos seres vivos. a esses aminoácidos, foramatribuídas abreviações de 3 letras e símbolos de 1 letra. as abreviações de 3 letras são bastante evidentesconsistindo nas três primeiras letras do se nome.\n",
            "As Proteínas São Cadeias Polipeptídicas Formadas Pela Ligação Peptídica Entre Resíduos De Aminoácidos.Existem 20 Tipos De Aminoácidos Comumente Encontrados Nos Seres Vivos. A Esses Aminoácidos, Foramatribuídas Abreviações De 3 Letras E Símbolos De 1 Letra. As Abreviações De 3 Letras São Bastante Evidentesconsistindo Nas Três Primeiras Letras Do Se Nome.\n",
            "as proteínas são cadeias polipeptídicas formadas pela ligação peptídica entre resíduos de aminoácidos.existem 20 tipos de aminoácidos comumente encontrados nos seres vivos. a esses aminoácidos, foramatribuídas abreviações de 3 letras e símbolos de 1 letra. as abreviações de 3 letras são bastante evidentesconsistindo nas três primeiras letras do se nome.\n"
          ]
        }
      ]
    },
    {
      "cell_type": "code",
      "source": [
        "insulin_signal = 'MALWMRLLPLLALLALWGPDPAAA' \n",
        "print(len(insulin_signal))\n",
        "new_seq =insulin_signal.split('LLALLALWG') \n",
        "print(new_seq) \n",
        "seq_a = new_seq[0] \n",
        "seq_b = new_seq[1]\n",
        "seq_a = str(seq_a)\n",
        "seq_b = str(seq_b) \n",
        "newest_seq = seq_a + seq_b \n",
        "\n",
        "newest_seq = newest_seq.replace('DPAAA','LLALL') \n",
        "print(newest_seq)"
      ],
      "metadata": {
        "colab": {
          "base_uri": "https://localhost:8080/"
        },
        "id": "iy0RkBsXNg_K",
        "outputId": "f418353e-54e1-483f-b6f5-b8dc175d1fc0"
      },
      "execution_count": null,
      "outputs": [
        {
          "output_type": "stream",
          "name": "stdout",
          "text": [
            "24\n",
            "['MALWMRLLP', 'PDPAAA']\n",
            "MALWMRLLPPLLALL\n"
          ]
        }
      ]
    },
    {
      "cell_type": "markdown",
      "source": [
        "## Instalando o biopython"
      ],
      "metadata": {
        "id": "bl-eddvOQ-I2"
      }
    },
    {
      "cell_type": "code",
      "source": [
        "!pip3 install biopython"
      ],
      "metadata": {
        "colab": {
          "base_uri": "https://localhost:8080/"
        },
        "id": "HbuTrCZoPn-d",
        "outputId": "c8c17b07-7b88-438d-99b5-fc9e03f186bb"
      },
      "execution_count": null,
      "outputs": [
        {
          "output_type": "stream",
          "name": "stdout",
          "text": [
            "Looking in indexes: https://pypi.org/simple, https://us-python.pkg.dev/colab-wheels/public/simple/\n",
            "Collecting biopython\n",
            "  Downloading biopython-1.81-cp38-cp38-manylinux_2_17_x86_64.manylinux2014_x86_64.whl (3.1 MB)\n",
            "\u001b[2K     \u001b[90m━━━━━━━━━━━━━━━━━━━━━━━━━━━━━━━━━━━━━━━━\u001b[0m \u001b[32m3.1/3.1 MB\u001b[0m \u001b[31m30.7 MB/s\u001b[0m eta \u001b[36m0:00:00\u001b[0m\n",
            "\u001b[?25hRequirement already satisfied: numpy in /usr/local/lib/python3.8/dist-packages (from biopython) (1.21.6)\n",
            "Installing collected packages: biopython\n",
            "Successfully installed biopython-1.81\n"
          ]
        }
      ]
    },
    {
      "cell_type": "code",
      "source": [
        "from Bio.Seq import Seq \n",
        "\n",
        "dna_sequence = Seq('GATGGAACTTGACGTAAACCTATATT') \n",
        "rna_sequence = dna_sequence.transcribe()\n",
        "print(rna_sequence)\n"
      ],
      "metadata": {
        "colab": {
          "base_uri": "https://localhost:8080/"
        },
        "id": "6Q1NHujARGbK",
        "outputId": "49f606ee-9c46-4fbb-a6c2-9a3169d0ad72"
      },
      "execution_count": null,
      "outputs": [
        {
          "output_type": "stream",
          "name": "stdout",
          "text": [
            "GAUGGAACUUGACGUAAACCUAUAUU\n"
          ]
        }
      ]
    },
    {
      "cell_type": "markdown",
      "source": [
        "## **Tuplas**"
      ],
      "metadata": {
        "id": "euKPq_S5U8xp"
      }
    },
    {
      "cell_type": "code",
      "source": [
        "t = 1,2,3\n",
        "type(t) \n",
        "print(t.count(1)) \n",
        "print(t.index(3)) \n",
        "print(4 in t) \n",
        "print(1 in t) \n",
        "print(len(t))"
      ],
      "metadata": {
        "colab": {
          "base_uri": "https://localhost:8080/"
        },
        "id": "Zxo0HbiJhz6j",
        "outputId": "6cc4e1ea-b577-4be5-db17-d85b7ccc8369"
      },
      "execution_count": null,
      "outputs": [
        {
          "output_type": "stream",
          "name": "stdout",
          "text": [
            "1\n",
            "2\n",
            "False\n",
            "True\n",
            "3\n"
          ]
        }
      ]
    },
    {
      "cell_type": "markdown",
      "source": [
        "## **Exercícios práticos Tuplas**"
      ],
      "metadata": {
        "id": "wHsjXRWaqT11"
      }
    },
    {
      "cell_type": "code",
      "source": [
        "aminoacidos = 'A','C', 'D', 'E', 'F', 'G', 'H', 'I', 'K', 'L', 'M', 'N', 'P', 'Q', 'R', 'S', 'T', 'V', 'W', 'Y'"
      ],
      "metadata": {
        "id": "dC11l3pSqFaC"
      },
      "execution_count": null,
      "outputs": []
    },
    {
      "cell_type": "code",
      "source": [
        "print(len(aminoacidos))  \n",
        "print('S' in aminoacidos)"
      ],
      "metadata": {
        "colab": {
          "base_uri": "https://localhost:8080/"
        },
        "id": "_hj7CEHXr2I1",
        "outputId": "13e763fd-452e-48f5-d89a-77ddcb8ce6ed"
      },
      "execution_count": null,
      "outputs": [
        {
          "output_type": "stream",
          "name": "stdout",
          "text": [
            "20\n",
            "True\n"
          ]
        }
      ]
    },
    {
      "cell_type": "code",
      "source": [
        "sub_aminoacidos = 'P', 'G','N','T','V','W' \n",
        "novo = aminoacidos + sub_aminoacidos \n",
        "print(novo) \n",
        "\n",
        "print(novo.count('G')) \n",
        "print(novo.count('N')) \n",
        "print(novo.count('C')) \n",
        "print(novo.index('N')) \n",
        "print(len(novo)) \n",
        "print(novo[21:26])"
      ],
      "metadata": {
        "colab": {
          "base_uri": "https://localhost:8080/"
        },
        "id": "i1kcDgaBsLxd",
        "outputId": "f0988e5e-4dd4-4373-d254-29cf901c4c87"
      },
      "execution_count": null,
      "outputs": [
        {
          "output_type": "stream",
          "name": "stdout",
          "text": [
            "('A', 'C', 'D', 'E', 'F', 'G', 'H', 'I', 'K', 'L', 'M', 'N', 'P', 'Q', 'R', 'S', 'T', 'V', 'W', 'Y', 'P', 'G', 'N', 'T', 'V', 'W')\n",
            "2\n",
            "2\n",
            "1\n",
            "11\n",
            "26\n",
            "('G', 'N', 'T', 'V', 'W')\n"
          ]
        }
      ]
    },
    {
      "cell_type": "markdown",
      "source": [
        "## **Exercícios Práticos Listas**"
      ],
      "metadata": {
        "id": "ylpuW_1j3UOz"
      }
    },
    {
      "cell_type": "code",
      "source": [
        "sequencias = ['AAY66821.1', 'AAY66759.1', 'AAY66711.1', 'AAY66706.1', 'AAY66703.1', 'AAY66697.1',\n",
        "'AAY66696.1', 'AAY66682.1', 'AAY66647.1', 'AAY66625.1', 'AAY66623.1', 'AAY66620.1',\n",
        "'AAY66619.1', 'AAY66616.1', 'AAY66609.1', 'AAY66607.1', 'AAY66586.1', 'AAY66564.1',\n",
        "'AAY66562.1', 'AAY66561.1', 'AAY66558.1', 'AAY66544.1', 'AAY66542.1', 'AAY66539.1',\n",
        "'AAY66538.1', 'AAY66537.1', 'AAY66536.1', 'AAY66512.1', 'AAY66496.1', 'AAM93627.1',\n",
        "'AAM93626.1', 'AAY66506.1', 'AAM93587.1', 'AAY66811.1', 'AAY66620.1', 'AAY66555.1',\n",
        "'AAY66707.1', 'AAM93653.1', 'AAY66608.1', 'AAY66700.1', 'AAY66646.1', 'AAY66809.1',\n",
        "'AAK97814.1', 'AAK97810.1', 'AAY66594.1', 'AAY66685.1', 'AAY66571.1', 'AAY66865.1']"
      ],
      "metadata": {
        "id": "xCKW67kE3ZOu"
      },
      "execution_count": null,
      "outputs": []
    },
    {
      "cell_type": "code",
      "source": [
        "tamanho = len(sequencias) \n",
        "print(tamanho)"
      ],
      "metadata": {
        "colab": {
          "base_uri": "https://localhost:8080/"
        },
        "id": "JpxTWTWR6ax8",
        "outputId": "9f02fc1d-534a-46fb-d186-f3d2149abcca"
      },
      "execution_count": null,
      "outputs": [
        {
          "output_type": "stream",
          "name": "stdout",
          "text": [
            "48\n"
          ]
        }
      ]
    },
    {
      "cell_type": "code",
      "source": [
        "print('AAY66682.1' in sequencias) \n",
        "print('AAY66504.1' in sequencias)\n",
        "print('AAY66640.1' in sequencias)\n",
        "print('AAY66562.1' in sequencias) \n",
        "print('AAY66816.1' in sequencias)"
      ],
      "metadata": {
        "colab": {
          "base_uri": "https://localhost:8080/"
        },
        "id": "Lmh29Aus6mck",
        "outputId": "fb7e5ee6-8ef3-4649-fc0a-8d00115d3221"
      },
      "execution_count": null,
      "outputs": [
        {
          "output_type": "stream",
          "name": "stdout",
          "text": [
            "True\n",
            "False\n",
            "False\n",
            "True\n",
            "False\n"
          ]
        }
      ]
    },
    {
      "cell_type": "code",
      "source": [
        "seq_pos_ten = sequencias[10] \n",
        "print(seq_pos_ten)"
      ],
      "metadata": {
        "colab": {
          "base_uri": "https://localhost:8080/"
        },
        "id": "A98hTFCj7kkL",
        "outputId": "9df3451c-f7c1-447a-f69d-f1870063fdf4"
      },
      "execution_count": null,
      "outputs": [
        {
          "output_type": "stream",
          "name": "stdout",
          "text": [
            "AAY66623.1\n"
          ]
        }
      ]
    },
    {
      "cell_type": "code",
      "source": [
        "sequencias.insert(11,'AAY66967.1') \n",
        "sequencias.insert(21,'AAY66880.1') \n",
        "sequencias.insert(16,'AAY66874.1')\n",
        "\n"
      ],
      "metadata": {
        "id": "Gv7wysqXAqHk"
      },
      "execution_count": null,
      "outputs": []
    },
    {
      "cell_type": "code",
      "source": [
        "print(sequencias[8]) \n",
        "sequencias.pop(8) \n",
        "\n",
        "print(sequencias)"
      ],
      "metadata": {
        "colab": {
          "base_uri": "https://localhost:8080/"
        },
        "id": "3zrdEuHACYNW",
        "outputId": "05d1e6eb-e30d-4d9b-b17b-18df048a4a92"
      },
      "execution_count": null,
      "outputs": [
        {
          "output_type": "stream",
          "name": "stdout",
          "text": [
            "AAY66625.1\n",
            "['AAY66821.1', 'AAY66759.1', 'AAY66711.1', 'AAY66706.1', 'AAY66703.1', 'AAY66697.1', 'AAY66696.1', 'AAY66682.1', 'AAY66623.1', 'AAY66967.1', 'AAY66967.1', 'AAY66620.1', 'AAY66619.1', 'AAY66616.1', 'AAY66874.1', 'AAY66609.1', 'AAY66607.1', 'AAY66586.1', 'AAY66564.1', 'AAY66562.1', 'AAY66880.1', 'AAY66561.1', 'AAY66558.1', 'AAY66544.1', 'AAY66542.1', 'AAY66539.1', 'AAY66538.1', 'AAY66537.1', 'AAY66536.1', 'AAY66512.1', 'AAY66496.1', 'AAM93627.1', 'AAM93626.1', 'AAY66506.1', 'AAM93587.1', 'AAY66811.1', 'AAY66620.1', 'AAY66555.1', 'AAY66707.1', 'AAM93653.1', 'AAY66608.1', 'AAY66700.1', 'AAY66646.1', 'AAY66809.1', 'AAK97814.1', 'AAK97810.1', 'AAY66594.1', 'AAY66685.1', 'AAY66571.1', 'AAY66865.1']\n"
          ]
        }
      ]
    },
    {
      "cell_type": "markdown",
      "source": [
        "#### **proteínas**"
      ],
      "metadata": {
        "id": "wWMAe_ZEDxnk"
      }
    },
    {
      "cell_type": "code",
      "source": [
        "proteinas = [-695.9, -884.3, -658.2, -917.9, -799.8, -842.1, -618.6, -726.6, -652.6, -594.8,\n",
        "-536.1, -788.2, -772.1, -676.9, -600.2, -575, -575.3,-603.4, -659.6, -715.3,\n",
        "-643.8, -703, -763.1, -712.1, -719, -574.2, -594.1, -700.3, -742.1, -621.9, -649.7, -663.3, -825.3, -849.3, -616.5, -675.1, -572.8,-624.2, -608, -615.3,\n",
        "-572.8, -665.3, -644.6,-788.9, -631.8, -707.4, -715.2, -728.2, -729, -642.1,\n",
        "-567.8 , -596.5, -551.5, -735, -805.5, -696.7, -617.9, -606.5, -658.8, -667.8,\n",
        "-689.5, -728.4, -564, -725.8, -623.2, -637, -570.9, -646.6, -703.2, -722.3,\n",
        "-624.1, -655.4]"
      ],
      "metadata": {
        "id": "zUHPeDU9Ea_y"
      },
      "execution_count": null,
      "outputs": []
    },
    {
      "cell_type": "code",
      "source": [
        "print(proteinas)"
      ],
      "metadata": {
        "colab": {
          "base_uri": "https://localhost:8080/"
        },
        "id": "kfNW-ziGFchH",
        "outputId": "a7b1820d-27e3-4d58-b334-a167104e48f9"
      },
      "execution_count": null,
      "outputs": [
        {
          "output_type": "stream",
          "name": "stdout",
          "text": [
            "[-695.9, -884.3, -658.2, -917.9, -799.8, -842.1, -618.6, -726.6, -652.6, -594.8, -536.1, -788.2, -772.1, -676.9, -600.2, -575, -575.3, -603.4, -659.6, -715.3, -643.8, -703, -763.1, -712.1, -719, -574.2, -594.1, -700.3, -742.1, -621.9, -649.7, -663.3, -825.3, -849.3, -616.5, -675.1, -572.8, -624.2, -608, -615.3, -572.8, -665.3, -644.6, -788.9, -631.8, -707.4, -715.2, -728.2, -729, -642.1, -567.8, -596.5, -551.5, -735, -805.5, -696.7, -617.9, -606.5, -658.8, -667.8, -689.5, -728.4, -564, -725.8, -623.2, -637, -570.9, -646.6, -703.2, -722.3, -624.1, -655.4]\n"
          ]
        }
      ]
    },
    {
      "cell_type": "code",
      "source": [
        "tamanho_proteinas = len(proteinas) \n",
        "print(tamanho_proteinas)"
      ],
      "metadata": {
        "colab": {
          "base_uri": "https://localhost:8080/"
        },
        "id": "sWB5rDKSFgdT",
        "outputId": "113bebcc-10f6-4f37-b2fc-b4896bbfe8ad"
      },
      "execution_count": null,
      "outputs": [
        {
          "output_type": "stream",
          "name": "stdout",
          "text": [
            "72\n"
          ]
        }
      ]
    },
    {
      "cell_type": "code",
      "source": [
        "print(min(proteinas))"
      ],
      "metadata": {
        "colab": {
          "base_uri": "https://localhost:8080/"
        },
        "id": "udGkJA3_Fv5R",
        "outputId": "3ffd2723-8442-412a-fd8e-fbee4179eb67"
      },
      "execution_count": null,
      "outputs": [
        {
          "output_type": "stream",
          "name": "stdout",
          "text": [
            "-917.9\n"
          ]
        }
      ]
    },
    {
      "cell_type": "code",
      "source": [
        "print(max(proteinas))"
      ],
      "metadata": {
        "colab": {
          "base_uri": "https://localhost:8080/"
        },
        "id": "60hyFe82GkBu",
        "outputId": "5a087f13-d0d9-45ba-a11b-ef27d5fdccae"
      },
      "execution_count": null,
      "outputs": [
        {
          "output_type": "stream",
          "name": "stdout",
          "text": [
            "-536.1\n"
          ]
        }
      ]
    },
    {
      "cell_type": "code",
      "source": [
        "proteinas.remove(-575)  "
      ],
      "metadata": {
        "id": "mjoPBhAgGrDd"
      },
      "execution_count": null,
      "outputs": []
    },
    {
      "cell_type": "code",
      "source": [
        "\n",
        "print(-575 in proteinas)"
      ],
      "metadata": {
        "colab": {
          "base_uri": "https://localhost:8080/"
        },
        "id": "bie6rdfJG83X",
        "outputId": "f4f8fc46-5b37-43b9-ed55-12d6b822eb95"
      },
      "execution_count": null,
      "outputs": [
        {
          "output_type": "stream",
          "name": "stdout",
          "text": [
            "False\n"
          ]
        }
      ]
    },
    {
      "cell_type": "code",
      "source": [
        "proteinas.sort() \n",
        "print(proteinas)"
      ],
      "metadata": {
        "colab": {
          "base_uri": "https://localhost:8080/"
        },
        "id": "gSiCtsAaHB5k",
        "outputId": "bde9e6a0-66ee-47e1-f200-2818256ff6fd"
      },
      "execution_count": null,
      "outputs": [
        {
          "output_type": "stream",
          "name": "stdout",
          "text": [
            "[-917.9, -884.3, -849.3, -842.1, -825.3, -805.5, -799.8, -788.9, -788.2, -772.1, -763.1, -742.1, -735, -729, -728.4, -728.2, -726.6, -725.8, -722.3, -719, -715.3, -715.2, -712.1, -707.4, -703.2, -703, -700.3, -696.7, -695.9, -689.5, -676.9, -675.1, -667.8, -665.3, -663.3, -659.6, -658.8, -658.2, -655.4, -652.6, -649.7, -646.6, -644.6, -643.8, -642.1, -637, -631.8, -624.2, -624.1, -623.2, -621.9, -618.6, -617.9, -616.5, -615.3, -608, -606.5, -603.4, -600.2, -596.5, -594.8, -594.1, -575.3, -574.2, -572.8, -572.8, -570.9, -567.8, -564, -551.5, -536.1]\n"
          ]
        }
      ]
    },
    {
      "cell_type": "code",
      "source": [
        "proteinas.reverse() \n",
        "print(proteinas)"
      ],
      "metadata": {
        "colab": {
          "base_uri": "https://localhost:8080/"
        },
        "id": "zgX8V8GLHTtS",
        "outputId": "875b2db8-83a0-43bc-ccc1-f6a6c086d31d"
      },
      "execution_count": null,
      "outputs": [
        {
          "output_type": "stream",
          "name": "stdout",
          "text": [
            "[-536.1, -551.5, -564, -567.8, -570.9, -572.8, -572.8, -574.2, -575.3, -594.1, -594.8, -596.5, -600.2, -603.4, -606.5, -608, -615.3, -616.5, -617.9, -618.6, -621.9, -623.2, -624.1, -624.2, -631.8, -637, -642.1, -643.8, -644.6, -646.6, -649.7, -652.6, -655.4, -658.2, -658.8, -659.6, -663.3, -665.3, -667.8, -675.1, -676.9, -689.5, -695.9, -696.7, -700.3, -703, -703.2, -707.4, -712.1, -715.2, -715.3, -719, -722.3, -725.8, -726.6, -728.2, -728.4, -729, -735, -742.1, -763.1, -772.1, -788.2, -788.9, -799.8, -805.5, -825.3, -842.1, -849.3, -884.3, -917.9]\n"
          ]
        }
      ]
    },
    {
      "cell_type": "markdown",
      "source": [
        "## **Exercícios Conjuntos**"
      ],
      "metadata": {
        "id": "fFJoInrqfnks"
      }
    },
    {
      "cell_type": "code",
      "source": [
        "ferramenta_um = {1.9, 1.8, 5.7, 1.6, 5.8, 1.7, 9.6, 5.9, 9.5, 6.5, 6.2, 1.1, 4.4, 3.5, 2.9, 4.7,\n",
        "4.6, 5.2, 5.3} \n",
        "\n",
        "ferramenta_dois = {4.7, 3.6, 6.2, 7.1, 7, 5.6, 5.7, 3.4, 3.3, 2.1, 3.8, 3.9, 5, 5.1, 1.9, 9.5,\n",
        "1.0, 1.3, 5.4}\n",
        "\n",
        "ferramenta_tres = {2.2, 3.3, 5.1, 3, 3.7, 9.1, 8.8, 8.5, 2, 4.1, 6.1, 4.9, 1.1, 0.5, 0.8, 3.2,\n",
        "6.9, 9.3, 9.5}"
      ],
      "metadata": {
        "id": "TmIEEgLwft8K"
      },
      "execution_count": null,
      "outputs": []
    },
    {
      "cell_type": "code",
      "source": [
        "print(ferramenta_um.difference(ferramenta_dois))"
      ],
      "metadata": {
        "colab": {
          "base_uri": "https://localhost:8080/"
        },
        "id": "5KBxRIurhIvX",
        "outputId": "b58b9b28-8e63-4392-b4d5-fda4bf9f1878"
      },
      "execution_count": null,
      "outputs": [
        {
          "output_type": "stream",
          "name": "stdout",
          "text": [
            "{1.7, 1.6, 1.8, 4.4, 5.9, 5.8, 6.5, 5.3, 9.6, 5.2, 3.5, 4.6, 1.1, 2.9}\n"
          ]
        }
      ]
    },
    {
      "cell_type": "code",
      "source": [
        "print(ferramenta_um.difference(ferramenta_tres))"
      ],
      "metadata": {
        "colab": {
          "base_uri": "https://localhost:8080/"
        },
        "id": "vgJJ9evjhRDC",
        "outputId": "8a826cb3-186f-4d1c-e0b2-920e66cedb6d"
      },
      "execution_count": null,
      "outputs": [
        {
          "output_type": "stream",
          "name": "stdout",
          "text": [
            "{1.7, 1.9, 1.8, 1.6, 5.8, 5.7, 5.9, 6.5, 9.6, 6.2, 4.4, 5.3, 5.2, 2.9, 3.5, 4.6, 4.7}\n"
          ]
        }
      ]
    },
    {
      "cell_type": "code",
      "source": [
        "print(ferramenta_dois.difference(ferramenta_tres))"
      ],
      "metadata": {
        "colab": {
          "base_uri": "https://localhost:8080/"
        },
        "id": "mCjja5N3hYjG",
        "outputId": "7265591b-c5e8-4337-89e1-c7b26da85311"
      },
      "execution_count": null,
      "outputs": [
        {
          "output_type": "stream",
          "name": "stdout",
          "text": [
            "{1.9, 2.1, 3.6, 4.7, 5.6, 6.2, 7, 7.1, 5.7, 3.4, 3.8, 5, 5.4, 1.0, 3.9, 1.3}\n"
          ]
        }
      ]
    },
    {
      "cell_type": "code",
      "source": [
        "print(ferramenta_um.intersection(ferramenta_dois))"
      ],
      "metadata": {
        "colab": {
          "base_uri": "https://localhost:8080/"
        },
        "id": "P-7F86LthcUT",
        "outputId": "84903ccf-ce1c-4e75-a81c-1b75b1d2deae"
      },
      "execution_count": null,
      "outputs": [
        {
          "output_type": "stream",
          "name": "stdout",
          "text": [
            "{1.9, 4.7, 5.7, 6.2, 9.5}\n"
          ]
        }
      ]
    },
    {
      "cell_type": "code",
      "source": [
        "print(ferramenta_um.intersection(ferramenta_tres))"
      ],
      "metadata": {
        "colab": {
          "base_uri": "https://localhost:8080/"
        },
        "id": "sGYBHCMbhmD_",
        "outputId": "285e9001-0354-4c98-baf4-c057be6df2dc"
      },
      "execution_count": null,
      "outputs": [
        {
          "output_type": "stream",
          "name": "stdout",
          "text": [
            "{1.1, 9.5}\n"
          ]
        }
      ]
    },
    {
      "cell_type": "code",
      "source": [
        "print(ferramenta_dois.intersection(ferramenta_tres))"
      ],
      "metadata": {
        "colab": {
          "base_uri": "https://localhost:8080/"
        },
        "id": "TRyJc63-htkA",
        "outputId": "36801450-5728-4d90-fbb6-868a280f37e0"
      },
      "execution_count": null,
      "outputs": [
        {
          "output_type": "stream",
          "name": "stdout",
          "text": [
            "{9.5, 3.3, 5.1}\n"
          ]
        }
      ]
    },
    {
      "cell_type": "code",
      "source": [
        "ferramentas = ferramenta_um.union(ferramenta_dois, ferramenta_tres)"
      ],
      "metadata": {
        "id": "EZ_HaBxBhyPE"
      },
      "execution_count": null,
      "outputs": []
    },
    {
      "cell_type": "code",
      "source": [
        "print(len(ferramentas))"
      ],
      "metadata": {
        "colab": {
          "base_uri": "https://localhost:8080/"
        },
        "id": "4lTuXjBkiFzR",
        "outputId": "155c4993-30f0-43a7-e699-01b3eea2279e"
      },
      "execution_count": null,
      "outputs": [
        {
          "output_type": "stream",
          "name": "stdout",
          "text": [
            "48\n"
          ]
        }
      ]
    },
    {
      "cell_type": "code",
      "source": [
        "A = {3, 6, 9, 12, 15, 18, 21, 24, 28, 27}\n",
        "B = {2, 6, 8, 10, 14, 16, 18, 20, 22, 24}\n",
        "C = {2, 6, 10, 18, 20}\n",
        "D = {1, 30, 5, 11, 17, 16, 22, 26} "
      ],
      "metadata": {
        "id": "XHUsxuvniZPy"
      },
      "execution_count": null,
      "outputs": []
    },
    {
      "cell_type": "code",
      "source": [
        "print(A.intersection(B)) \n",
        "print(A.difference(B))"
      ],
      "metadata": {
        "colab": {
          "base_uri": "https://localhost:8080/"
        },
        "id": "uir14kV1id_t",
        "outputId": "c5e564ae-260e-4b82-fd87-b57f866429ce"
      },
      "execution_count": null,
      "outputs": [
        {
          "output_type": "stream",
          "name": "stdout",
          "text": [
            "{24, 18, 6}\n",
            "{3, 9, 12, 15, 21, 27, 28}\n"
          ]
        }
      ]
    },
    {
      "cell_type": "code",
      "source": [
        "print(A.isdisjoint(D)) \n",
        "print(B.isdisjoint(D))"
      ],
      "metadata": {
        "colab": {
          "base_uri": "https://localhost:8080/"
        },
        "id": "VGUL6TK3ipdG",
        "outputId": "896b33df-9f08-4563-cf51-35d75c93e911"
      },
      "execution_count": null,
      "outputs": [
        {
          "output_type": "stream",
          "name": "stdout",
          "text": [
            "True\n",
            "False\n"
          ]
        }
      ]
    },
    {
      "cell_type": "code",
      "source": [
        "print(C.issubset(A))  \n",
        "print(C.issubset(B)) \n"
      ],
      "metadata": {
        "colab": {
          "base_uri": "https://localhost:8080/"
        },
        "id": "k_Qz5kasizfi",
        "outputId": "cd861509-a6a8-4dad-9b58-b038b515b599"
      },
      "execution_count": null,
      "outputs": [
        {
          "output_type": "stream",
          "name": "stdout",
          "text": [
            "False\n",
            "True\n"
          ]
        }
      ]
    },
    {
      "cell_type": "code",
      "source": [
        "D.add(18) \n",
        "D.add(23) \n",
        "D.add(25) \n",
        "D.add(63) \n",
        "print(D)"
      ],
      "metadata": {
        "colab": {
          "base_uri": "https://localhost:8080/"
        },
        "id": "4SoGBEPRjEVa",
        "outputId": "b75b6a50-85f6-458f-8cbb-9ee6f25334e0"
      },
      "execution_count": null,
      "outputs": [
        {
          "output_type": "stream",
          "name": "stdout",
          "text": [
            "{1, 5, 11, 16, 17, 18, 22, 23, 25, 26, 30, 63}\n"
          ]
        }
      ]
    },
    {
      "cell_type": "markdown",
      "source": [
        "## **Dicionários ou Hashes**"
      ],
      "metadata": {
        "id": "Jv5khh8oVcWg"
      }
    },
    {
      "cell_type": "markdown",
      "source": [
        "#### **Exercícios dicionários ou hashes**"
      ],
      "metadata": {
        "id": "wFJMTLL6p9rU"
      }
    },
    {
      "cell_type": "code",
      "source": [
        "dic = { \n",
        "'1A8M' : 471,\n",
        "'1TNR' : 283,\n",
        "'2AZ5' : 592,\n",
        "'1TNF' : 471,\n",
        "'2TNF' : 468,\n",
        "'2TUN' : 942,\n",
        "'4TSV' : 150,\n",
        "'5TSW' : 900,\n",
        "'2E7A' : 471,\n",
        "'6RMJ' : 489 \n",
        "}"
      ],
      "metadata": {
        "id": "pGStW-5cm2Rp"
      },
      "execution_count": null,
      "outputs": []
    },
    {
      "cell_type": "code",
      "source": [
        "print(dic['2TNF']) \n",
        "print(dic['2E7A'])"
      ],
      "metadata": {
        "colab": {
          "base_uri": "https://localhost:8080/"
        },
        "id": "64mMYRrBzmv9",
        "outputId": "d427fb93-45bb-40b2-88f8-1538d29534e2"
      },
      "execution_count": null,
      "outputs": [
        {
          "output_type": "stream",
          "name": "stdout",
          "text": [
            "468\n",
            "471\n"
          ]
        }
      ]
    },
    {
      "cell_type": "code",
      "source": [
        "print(len(dic))"
      ],
      "metadata": {
        "colab": {
          "base_uri": "https://localhost:8080/"
        },
        "id": "MErQs86_0IeY",
        "outputId": "46253357-9494-4181-987a-35f7bea965ee"
      },
      "execution_count": null,
      "outputs": [
        {
          "output_type": "stream",
          "name": "stdout",
          "text": [
            "10\n"
          ]
        }
      ]
    },
    {
      "cell_type": "code",
      "source": [
        "chaves = dict.keys(dic) \n",
        "print(chaves)"
      ],
      "metadata": {
        "colab": {
          "base_uri": "https://localhost:8080/"
        },
        "id": "9FUhzTMM0Sh6",
        "outputId": "2c1c1f08-22c6-468e-dda8-bcd548667eb4"
      },
      "execution_count": null,
      "outputs": [
        {
          "output_type": "stream",
          "name": "stdout",
          "text": [
            "dict_keys(['1A8M', '1TNR', '2AZ5', '1TNF', '2TNF', '2TUN', '4TSV', '5TSW', '2E7A', '6RMJ'])\n"
          ]
        }
      ]
    },
    {
      "cell_type": "code",
      "source": [
        "valores = dict.values(dic) \n",
        "print(valores)"
      ],
      "metadata": {
        "colab": {
          "base_uri": "https://localhost:8080/"
        },
        "id": "8ymiJazy0aL-",
        "outputId": "79be3225-7589-4890-ec63-955ef89d5cc1"
      },
      "execution_count": null,
      "outputs": [
        {
          "output_type": "stream",
          "name": "stdout",
          "text": [
            "dict_values([471, 283, 592, 471, 468, 942, 150, 900, 471, 489])\n"
          ]
        }
      ]
    },
    {
      "cell_type": "code",
      "source": [
        "lista_de_tuplas = dict.items(dic) \n",
        "print(lista_de_tuplas)"
      ],
      "metadata": {
        "colab": {
          "base_uri": "https://localhost:8080/"
        },
        "id": "38hT7I-e1LNT",
        "outputId": "7903b48c-7ec6-42bf-f55b-9c6aa3473958"
      },
      "execution_count": null,
      "outputs": [
        {
          "output_type": "stream",
          "name": "stdout",
          "text": [
            "dict_items([('1A8M', 471), ('1TNR', 283), ('2AZ5', 592), ('1TNF', 471), ('2TNF', 468), ('2TUN', 942), ('4TSV', 150), ('5TSW', 900), ('2E7A', 471), ('6RMJ', 489)])\n"
          ]
        }
      ]
    }
  ]
}